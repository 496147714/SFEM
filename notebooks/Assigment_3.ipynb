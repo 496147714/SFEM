{
 "metadata": {
  "name": "",
  "signature": "sha256:4deb9e2103b3d22773dab96fba001962aaaa90f5b80eac8481a1248742d067bc"
 },
 "nbformat": 3,
 "nbformat_minor": 0,
 "worksheets": [
  {
   "cells": [
    {
     "cell_type": "heading",
     "level": 1,
     "source": [
      "Assignment 3"
     ]
    },
    {
     "cell_type": "markdown",
     "source": [
      "Consider the linear elastic bar of length $L=$ 2m, shown in the figure below."
     ]
    },
    {
     "cell_type": "markdown",
     "source": [
      "<img src=\"SFEM_bar.png\"  width=\"480\" height=\"180\" border=\"10\">"
     ]
    },
    {
     "cell_type": "markdown",
     "source": [
      "The axial resistance of the bar $D(z,\\theta)$ is described by a homogeneous\n",
      "random field with lognormal marginal distribution, mean $\\mu_D=$ 100kN and the\n",
      "coefficient of variation $\\delta_D = $ 0.2. The auto-correlation coefficient\n",
      "function of the underlying Gaussian random field is given by the following\n",
      "exponential model:\n",
      "\n",
      "$$\\rho_{UU}(\\Delta z) = \\exp(-\\dfrac{\\Delta z}{l})$$\n",
      "\n",
      "where $l=$ 1m is the correlation length. The random field is to be discretized\n",
      "by the Karhunen-Lo&egrave;ve expansion. The bas is subjected to a deterministic\n",
      "distributed load $q=$ 1kN/m.\n",
      "\n",
      "Based on the code written for the 2nn Assignment, create a Matlab program that\n",
      "estimates the statistics of the tip displacement by Monte Carlo simulation.\n",
      "\n",
      "(a) Estimate the statistics (mean and coefficient of variation) of the tip with\n",
      "500 samples.\n",
      "\n",
      "(b) Estimate the statistics (the mean and standard deviation) of your estimates\n",
      "through performing 50 repeated simulations.\n",
      "\n",
      "(c) Compare the performance of pseudo random sampling, Latin hypercube sampling\n",
      "and quasi-random sampling.\n",
      "\n",
      "(d) Estimate the mean and standard deviation of the tip displacement for the\n",
      "case where the correlation length of the random field is l=0.5m. Make sure that\n",
      "the random field is represented accurately by choosing appropriately the number\n",
      "of terms in the Karhunen-Lo&egrave;ve expansion."
     ]
    },
    {
     "cell_type": "markdown",
     "source": [
      "***\n",
      "\n",
      "> **NOTE:** The exercise is gonna be solved using Python instead of Matlab code.\n",
      "> The Matlab code provided in the lecture have been translated to Python.\n",
      "\n",
      "***"
     ]
    },
    {
     "cell_type": "markdown",
     "source": [
      "Load the plotting and numerical packages `numpy` and `matplotlib` and make the\n",
      "private modules available before starting:"
     ]
    },
    {
     "cell_type": "code",
     "collapsed": false,
     "input": [
      "from matplotlib import pyplot as plt, rcParams\n",
      "import scipy.stats\n",
      "import numpy as np\n",
      "import string\n",
      "import sys\n",
      "sys.path.insert(0,'../python')"
     ],
     "language": "python",
     "outputs": [],
     "prompt_number": 1
    },
    {
     "cell_type": "code",
     "collapsed": false,
     "input": [
      "# include plots inline\n",
      "%matplotlib inline\n",
      "\n",
      "# set figure default\n",
      "rcParams['figure.figsize'] = [8.,6.]\n",
      "rcParams['font.size'] = 12.\n"
     ],
     "language": "python",
     "outputs": [],
     "prompt_number": 2
    },
    {
     "cell_type": "markdown",
     "source": [
      "Define the global variables descrbing the problem:"
     ]
    },
    {
     "cell_type": "code",
     "collapsed": false,
     "input": [
      "# Linear elestic bar of length L=2m\n",
      "L = 2.\n",
      "\n",
      "# The axial resistance is described by a random field with lognormal marginal distribution\n",
      "# mean: mu_D = 100kN\n",
      "# coefficient of variation: delta_D = std_D / mu_D = 0.2\n",
      "mu_D    = 100.\n",
      "delta_D = 0.2\n",
      "std_D   = delta_D * mu_D\n",
      "\n",
      "# The auto-correlation coefficient function of the underlying Gaussian random\n",
      "# field is given by the following exponential model, with correlation length=1m\n",
      "l = 1. # [m]\n",
      "\n",
      "# distributed load\n",
      "q    = 1.  # [kN/m]"
     ],
     "language": "python",
     "outputs": [],
     "prompt_number": 3
    },
    {
     "cell_type": "heading",
     "level": 3,
     "source": [
      "Code to solve all four questions"
     ]
    },
    {
     "cell_type": "code",
     "collapsed": false,
     "input": [
      "# import the function EigFcnKL in module EigFcnKL\n",
      "from EigFcnKL import EigFcnKL\n",
      "from relVarianceErrorKL import relVarianceErrorKL\n",
      "from avgVarianceErrorKL import avgVarianceErrorKL\n",
      "from febar import febar\n",
      "\n",
      "# maximum number of terms of the KL expansion\n",
      "m_max = 100\n",
      "\n",
      "# eigenvalues and eigenfunctions of the KL expansion with exponential kernel\n",
      "Lambda, phi, w, alpha = EigFcnKL(m_max , L , l)\n",
      "\n",
      "# Make a grid to evaluate the eigenfunctions and the errors\n",
      "N_nodes    = 21\n",
      "N_elements = N_nodes - 1\n",
      "z     = np.linspace(0, L, N_nodes)\n",
      "z_mid = (z[:-1] + z[1:]) / 2.\n",
      "\n",
      "# Make a grid to evaluate the eigenfunctions and the errors\n",
      "N_nodes    = 21\n",
      "N_elements = N_nodes - 1\n",
      "z     = np.linspace(0, L, N_nodes)\n",
      "z_mid = (z[:-1] + z[1:]) / 2.\n",
      "\n",
      "# D(z,theta) is described by a homogeneous RF with lognormal marginal distribution\n",
      "# Transform the parameters of the lognormal distribution to a normal distribution\n",
      "sigma_U =  np.sqrt(np.log(delta_D**2 + 1.))\n",
      "mu_U =  np.log(mu_D) - sigma_U**2/2.\n",
      "\n",
      "# different correlation lengths\n",
      "l_corr = [1., 0.5]\n",
      "N_corr = len(l_corr)\n",
      "\n",
      "# random seeds\n",
      "seeds = [123, 12345, 1234567, 123456789]\n",
      "\n",
      "# accuracy threshold\n",
      "avgErr_max = 0.05\n",
      "\n",
      "# errors \n",
      "errVar = []\n",
      "avgErr = []\n",
      "\n",
      "# Monte Carlo parameters\n",
      "N_repetitions = 50\n",
      "N_realizations = 500\n",
      "\n",
      "# initialize tip displacement\n",
      "u_tip   = np.zeros(N_realizations)\n",
      "\n",
      "# Use different types sampling methods\n",
      "samplings = ['pseudo', 'halton', 'lhs']\n",
      "N_samplings = len(samplings)\n",
      "\n",
      "# statistics\n",
      "u_tip_mean = np.zeros((N_samplings,N_corr,N_repetitions))\n",
      "u_tip_std  = np.zeros((N_samplings,N_corr,N_repetitions))\n",
      "u_tip_CV   = np.zeros((N_samplings,N_corr,N_repetitions))\n",
      "\n",
      "#------------------------------------------------------------\n",
      "# loop over sampling methods\n",
      "#------------------------------------------------------------\n",
      "for ls,sampling in enumerate(samplings):\n",
      "\n",
      "    print 'Sampling: %s' % sampling\n",
      "\n",
      "    #------------------------------------------------------------\n",
      "    # loop over correlation legths\n",
      "    #------------------------------------------------------------\n",
      "    for k,l in enumerate(l_corr):\n",
      "\n",
      "\t# eigenvalues and eigenfunctions of the KL expansion with exponential kernel\n",
      "\tLambda, phi, w, alpha = EigFcnKL(m_max , L, l)\n",
      "\n",
      "\t# average variance error at midpoints\n",
      "\tavgErr.append(avgVarianceErrorKL(m_max, L, Lambda))\n",
      "\n",
      "\t# find the first m-terms that ensure an average variance error < 0.05 \n",
      "\tm = 0\n",
      "\twhile m < m_max:\n",
      "\t    m = m + 1\n",
      "\t    if avgErr[k][m] < avgErr_max:\n",
      "\t\tbreak\n",
      "\tprint '  l_corr: %.2f, N_terms=%3i, avgErr[m]= %.3f' % (l, m+1, avgErr[k][m])\n",
      "\n",
      "\t#------------------------------------------------------------\n",
      "\t# loop over repetitions\n",
      "\t#------------------------------------------------------------\n",
      "\tfor j in range(N_repetitions):\n",
      "\n",
      "\t    print '    repetition:%3i,' % (j+1),\n",
      "\n",
      "\t    # \"random\" sequences\n",
      "\t    if sampling=='pseudo':\n",
      "\t\tUU = np.random.randn(N_realizations,m)\n",
      "\t    elif sampling=='halton':\n",
      "\t\timport ghalton\n",
      "\t\t# sequencer = ghalton.Halton(m)\n",
      "\t\t# permutation seed | 100 permutation rules avaible in ghalton\n",
      "\t\tif j==0:\n",
      "\t\t    pseed = np.arange(100); np.random.shuffle(pseed)\n",
      "\t\t    sequencer = ghalton.GeneralizedHalton(m, pseed[j])\n",
      "\t\t    hlds = np.array(sequencer.get(N_realizations*N_repetitions))\n",
      "\t\t    hlds = np.reshape(hlds, (N_repetitions,N_realizations,m))\n",
      "\t\t# transform to normal\n",
      "\t\tUU = scipy.stats.norm.ppf(hlds[j,:,:], loc=0., scale=1.)\n",
      "\t    elif sampling=='lhs':\n",
      "\t\tfrom pyDOE import lhs\n",
      "\t\tlhd = lhs(m, samples=N_realizations)\n",
      "\t\t# transform to normal\n",
      "\t\tUU = scipy.stats.norm.ppf(lhd, loc=0., scale=1.)\n",
      "\n",
      "\t    #------------------------------------------------------------\n",
      "\t    # loop over realizations\n",
      "\t    #------------------------------------------------------------\n",
      "\t    for i in range(N_realizations):\n",
      "\n",
      "\t\t# Gaussian RVs\n",
      "\t\tU = UU[i,:]\n",
      "\n",
      "\t\t# Initialize Gaussian RF \n",
      "\t\tU_RF = np.zeros(len(z_mid))\n",
      "\n",
      "\t\t# Calculate Gaussian RF \n",
      "\t\tfor ii in range(m):\n",
      "\t\t    U_RF = U_RF + np.sqrt(Lambda[ii])*phi[ii](z_mid)*U[ii]\n",
      "\n",
      "\t\tU_RF = U_RF * sigma_U\n",
      "\t\tU_RF = U_RF + mu_U\n",
      "\n",
      "\t\t# Transformation to distribution of axial resistance (lognormal)\n",
      "\t\tD_RF = np.exp(U_RF)\n",
      "\n",
      "\t\t# finite element solution (random realization)\n",
      "\t\tu_RR = febar(D_RF, q, L, N_elements)\n",
      "\n",
      "\t\t# tip displacement\n",
      "\t\tu_tip[i] =u_RR[-1]\n",
      "\t\t\n",
      "\t    # store the statistics for anny samplig method, correlation length\n",
      "\t    # and repetition\n",
      "\t    u_tip_mean[ls,k,j] = np.mean(u_tip[:])\n",
      "\t    u_tip_std[ls,k,j]  = np.std(u_tip[:])\n",
      "\t    u_tip_CV[ls,k,j]   = u_tip_std[ls,k,j] / u_tip_mean[ls,k,j]\n",
      "\n",
      "\t    print 'mean(u_tip)= %.6f, CV(u_tip)= %.6f' % (u_tip_mean[ls,k,j], u_tip_CV[ls,k,j])"
     ],
     "language": "python",
     "outputs": [
      {
       "output_type": "stream",
       "stream": "stdout",
       "text": [
        "Sampling: pseudo\n",
        "  l_corr: 1.00, N_terms=  9, avgErr[m]= 0.047\n",
        "    repetition:  1, "
       ]
      },
      {
       "output_type": "stream",
       "stream": "stdout",
       "text": [
        "mean(u_tip)= 0.020745, CV(u_tip)= 0.158390\n",
        "    repetition:  2, "
       ]
      },
      {
       "output_type": "stream",
       "stream": "stdout",
       "text": [
        "mean(u_tip)= 0.020863, CV(u_tip)= 0.160241\n",
        "    repetition:  3, "
       ]
      },
      {
       "output_type": "stream",
       "stream": "stdout",
       "text": [
        "mean(u_tip)= 0.020749, CV(u_tip)= 0.150772\n",
        "    repetition:  4, "
       ]
      },
      {
       "output_type": "stream",
       "stream": "stdout",
       "text": [
        "mean(u_tip)= 0.020743, CV(u_tip)= 0.161246\n",
        "    repetition:  5, "
       ]
      },
      {
       "output_type": "stream",
       "stream": "stdout",
       "text": [
        "mean(u_tip)= 0.020670, CV(u_tip)= 0.154485\n",
        "    repetition:  6, "
       ]
      },
      {
       "output_type": "stream",
       "stream": "stdout",
       "text": [
        "mean(u_tip)= 0.020865, CV(u_tip)= 0.154653\n",
        "    repetition:  7, "
       ]
      },
      {
       "output_type": "stream",
       "stream": "stdout",
       "text": [
        "mean(u_tip)= 0.020568, CV(u_tip)= 0.162279\n",
        "    repetition:  8, "
       ]
      },
      {
       "output_type": "stream",
       "stream": "stdout",
       "text": [
        "mean(u_tip)= 0.020641, CV(u_tip)= 0.154779\n",
        "    repetition:  9, "
       ]
      },
      {
       "output_type": "stream",
       "stream": "stdout",
       "text": [
        "mean(u_tip)= 0.020616, CV(u_tip)= 0.165410\n",
        "    repetition: 10, "
       ]
      },
      {
       "output_type": "stream",
       "stream": "stdout",
       "text": [
        "mean(u_tip)= 0.020622, CV(u_tip)= 0.167196\n",
        "    repetition: 11, "
       ]
      },
      {
       "output_type": "stream",
       "stream": "stdout",
       "text": [
        "mean(u_tip)= 0.020895, CV(u_tip)= 0.155170\n",
        "    repetition: 12, "
       ]
      },
      {
       "output_type": "stream",
       "stream": "stdout",
       "text": [
        "mean(u_tip)= 0.020717, CV(u_tip)= 0.153582\n",
        "    repetition: 13, "
       ]
      },
      {
       "output_type": "stream",
       "stream": "stdout",
       "text": [
        "mean(u_tip)= 0.020900, CV(u_tip)= 0.152888\n",
        "    repetition: 14, "
       ]
      },
      {
       "output_type": "stream",
       "stream": "stdout",
       "text": [
        "mean(u_tip)= 0.020955, CV(u_tip)= 0.170027\n",
        "    repetition: 15, "
       ]
      },
      {
       "output_type": "stream",
       "stream": "stdout",
       "text": [
        "mean(u_tip)= 0.020645, CV(u_tip)= 0.164178\n",
        "    repetition: 16, "
       ]
      },
      {
       "output_type": "stream",
       "stream": "stdout",
       "text": [
        "mean(u_tip)= 0.020922, CV(u_tip)= 0.162486\n",
        "    repetition: 17, "
       ]
      },
      {
       "output_type": "stream",
       "stream": "stdout",
       "text": [
        "mean(u_tip)= 0.021060, CV(u_tip)= 0.161420\n",
        "    repetition: 18, "
       ]
      },
      {
       "output_type": "stream",
       "stream": "stdout",
       "text": [
        "mean(u_tip)= 0.020881, CV(u_tip)= 0.153231\n",
        "    repetition: 19, "
       ]
      },
      {
       "output_type": "stream",
       "stream": "stdout",
       "text": [
        "mean(u_tip)= 0.020751, CV(u_tip)= 0.169564\n",
        "    repetition: 20, "
       ]
      },
      {
       "output_type": "stream",
       "stream": "stdout",
       "text": [
        "mean(u_tip)= 0.020712, CV(u_tip)= 0.158498\n",
        "    repetition: 21, "
       ]
      },
      {
       "output_type": "stream",
       "stream": "stdout",
       "text": [
        "mean(u_tip)= 0.020829, CV(u_tip)= 0.153532\n",
        "    repetition: 22, "
       ]
      },
      {
       "output_type": "stream",
       "stream": "stdout",
       "text": [
        "mean(u_tip)= 0.020798, CV(u_tip)= 0.158462\n",
        "    repetition: 23, "
       ]
      },
      {
       "output_type": "stream",
       "stream": "stdout",
       "text": [
        "mean(u_tip)= 0.020659, CV(u_tip)= 0.165125\n",
        "    repetition: 24, "
       ]
      },
      {
       "output_type": "stream",
       "stream": "stdout",
       "text": [
        "mean(u_tip)= 0.020663, CV(u_tip)= 0.160177\n",
        "    repetition: 25, "
       ]
      },
      {
       "output_type": "stream",
       "stream": "stdout",
       "text": [
        "mean(u_tip)= 0.020851, CV(u_tip)= 0.154642\n",
        "    repetition: 26, "
       ]
      },
      {
       "output_type": "stream",
       "stream": "stdout",
       "text": [
        "mean(u_tip)= 0.020841, CV(u_tip)= 0.158393\n",
        "    repetition: 27, "
       ]
      },
      {
       "output_type": "stream",
       "stream": "stdout",
       "text": [
        "mean(u_tip)= 0.020629, CV(u_tip)= 0.157233\n",
        "    repetition: 28, "
       ]
      },
      {
       "output_type": "stream",
       "stream": "stdout",
       "text": [
        "mean(u_tip)= 0.020927, CV(u_tip)= 0.162420\n",
        "    repetition: 29, "
       ]
      },
      {
       "output_type": "stream",
       "stream": "stdout",
       "text": [
        "mean(u_tip)= 0.021012, CV(u_tip)= 0.162435\n",
        "    repetition: 30, "
       ]
      },
      {
       "output_type": "stream",
       "stream": "stdout",
       "text": [
        "mean(u_tip)= 0.020677, CV(u_tip)= 0.159143\n",
        "    repetition: 31, "
       ]
      },
      {
       "output_type": "stream",
       "stream": "stdout",
       "text": [
        "mean(u_tip)= 0.020932, CV(u_tip)= 0.156393\n",
        "    repetition: 32, "
       ]
      },
      {
       "output_type": "stream",
       "stream": "stdout",
       "text": [
        "mean(u_tip)= 0.020796, CV(u_tip)= 0.153231\n",
        "    repetition: 33, "
       ]
      },
      {
       "output_type": "stream",
       "stream": "stdout",
       "text": [
        "mean(u_tip)= 0.020697, CV(u_tip)= 0.151354\n",
        "    repetition: 34, "
       ]
      },
      {
       "output_type": "stream",
       "stream": "stdout",
       "text": [
        "mean(u_tip)= 0.020949, CV(u_tip)= 0.161620\n",
        "    repetition: 35, "
       ]
      },
      {
       "output_type": "stream",
       "stream": "stdout",
       "text": [
        "mean(u_tip)= 0.020705, CV(u_tip)= 0.152949\n",
        "    repetition: 36, "
       ]
      },
      {
       "output_type": "stream",
       "stream": "stdout",
       "text": [
        "mean(u_tip)= 0.020642, CV(u_tip)= 0.159256\n",
        "    repetition: 37, "
       ]
      },
      {
       "output_type": "stream",
       "stream": "stdout",
       "text": [
        "mean(u_tip)= 0.020612, CV(u_tip)= 0.155282\n",
        "    repetition: 38, "
       ]
      },
      {
       "output_type": "stream",
       "stream": "stdout",
       "text": [
        "mean(u_tip)= 0.020932, CV(u_tip)= 0.166258\n",
        "    repetition: 39, "
       ]
      },
      {
       "output_type": "stream",
       "stream": "stdout",
       "text": [
        "mean(u_tip)= 0.020654, CV(u_tip)= 0.164756\n",
        "    repetition: 40, "
       ]
      },
      {
       "output_type": "stream",
       "stream": "stdout",
       "text": [
        "mean(u_tip)= 0.020960, CV(u_tip)= 0.163584\n",
        "    repetition: 41, "
       ]
      },
      {
       "output_type": "stream",
       "stream": "stdout",
       "text": [
        "mean(u_tip)= 0.020665, CV(u_tip)= 0.163788\n",
        "    repetition: 42, "
       ]
      },
      {
       "output_type": "stream",
       "stream": "stdout",
       "text": [
        "mean(u_tip)= 0.020522, CV(u_tip)= 0.154646\n",
        "    repetition: 43, "
       ]
      },
      {
       "output_type": "stream",
       "stream": "stdout",
       "text": [
        "mean(u_tip)= 0.020804, CV(u_tip)= 0.158117\n",
        "    repetition: 44, "
       ]
      },
      {
       "output_type": "stream",
       "stream": "stdout",
       "text": [
        "mean(u_tip)= 0.020790, CV(u_tip)= 0.155774\n",
        "    repetition: 45, "
       ]
      },
      {
       "output_type": "stream",
       "stream": "stdout",
       "text": [
        "mean(u_tip)= 0.020869, CV(u_tip)= 0.165672\n",
        "    repetition: 46, "
       ]
      },
      {
       "output_type": "stream",
       "stream": "stdout",
       "text": [
        "mean(u_tip)= 0.020706, CV(u_tip)= 0.166944\n",
        "    repetition: 47, "
       ]
      },
      {
       "output_type": "stream",
       "stream": "stdout",
       "text": [
        "mean(u_tip)= 0.020797, CV(u_tip)= 0.158721\n",
        "    repetition: 48, "
       ]
      },
      {
       "output_type": "stream",
       "stream": "stdout",
       "text": [
        "mean(u_tip)= 0.020978, CV(u_tip)= 0.154122\n",
        "    repetition: 49, "
       ]
      },
      {
       "output_type": "stream",
       "stream": "stdout",
       "text": [
        "mean(u_tip)= 0.021002, CV(u_tip)= 0.153744\n",
        "    repetition: 50, "
       ]
      },
      {
       "output_type": "stream",
       "stream": "stdout",
       "text": [
        "mean(u_tip)= 0.020645, CV(u_tip)= 0.151801\n",
        "  l_corr: 0.50, N_terms= 17, avgErr[m]= 0.049\n",
        "    repetition:  1, "
       ]
      },
      {
       "output_type": "stream",
       "stream": "stdout",
       "text": [
        "mean(u_tip)= 0.020610, CV(u_tip)= 0.137628\n",
        "    repetition:  2, "
       ]
      },
      {
       "output_type": "stream",
       "stream": "stdout",
       "text": [
        "mean(u_tip)= 0.020815, CV(u_tip)= 0.128980\n",
        "    repetition:  3, "
       ]
      },
      {
       "output_type": "stream",
       "stream": "stdout",
       "text": [
        "mean(u_tip)= 0.020727, CV(u_tip)= 0.133485\n",
        "    repetition:  4, "
       ]
      },
      {
       "output_type": "stream",
       "stream": "stdout",
       "text": [
        "mean(u_tip)= 0.020883, CV(u_tip)= 0.135986\n",
        "    repetition:  5, "
       ]
      },
      {
       "output_type": "stream",
       "stream": "stdout",
       "text": [
        "mean(u_tip)= 0.020703, CV(u_tip)= 0.132617\n",
        "    repetition:  6, "
       ]
      },
      {
       "output_type": "stream",
       "stream": "stdout",
       "text": [
        "mean(u_tip)= 0.020858, CV(u_tip)= 0.126956\n",
        "    repetition:  7, "
       ]
      },
      {
       "output_type": "stream",
       "stream": "stdout",
       "text": [
        "mean(u_tip)= 0.020821, CV(u_tip)= 0.136654\n",
        "    repetition:  8, "
       ]
      },
      {
       "output_type": "stream",
       "stream": "stdout",
       "text": [
        "mean(u_tip)= 0.020745, CV(u_tip)= 0.127876\n",
        "    repetition:  9, "
       ]
      },
      {
       "output_type": "stream",
       "stream": "stdout",
       "text": [
        "mean(u_tip)= 0.020989, CV(u_tip)= 0.132937\n",
        "    repetition: 10, "
       ]
      },
      {
       "output_type": "stream",
       "stream": "stdout",
       "text": [
        "mean(u_tip)= 0.020742, CV(u_tip)= 0.141086\n",
        "    repetition: 11, "
       ]
      },
      {
       "output_type": "stream",
       "stream": "stdout",
       "text": [
        "mean(u_tip)= 0.020746, CV(u_tip)= 0.122588\n",
        "    repetition: 12, "
       ]
      },
      {
       "output_type": "stream",
       "stream": "stdout",
       "text": [
        "mean(u_tip)= 0.020573, CV(u_tip)= 0.137295\n",
        "    repetition: 13, "
       ]
      },
      {
       "output_type": "stream",
       "stream": "stdout",
       "text": [
        "mean(u_tip)= 0.020606, CV(u_tip)= 0.124705\n",
        "    repetition: 14, "
       ]
      },
      {
       "output_type": "stream",
       "stream": "stdout",
       "text": [
        "mean(u_tip)= 0.020972, CV(u_tip)= 0.136103\n",
        "    repetition: 15, "
       ]
      },
      {
       "output_type": "stream",
       "stream": "stdout",
       "text": [
        "mean(u_tip)= 0.021037, CV(u_tip)= 0.129700\n",
        "    repetition: 16, "
       ]
      },
      {
       "output_type": "stream",
       "stream": "stdout",
       "text": [
        "mean(u_tip)= 0.020576, CV(u_tip)= 0.127907\n",
        "    repetition: 17, "
       ]
      },
      {
       "output_type": "stream",
       "stream": "stdout",
       "text": [
        "mean(u_tip)= 0.021003, CV(u_tip)= 0.136357\n",
        "    repetition: 18, "
       ]
      },
      {
       "output_type": "stream",
       "stream": "stdout",
       "text": [
        "mean(u_tip)= 0.020938, CV(u_tip)= 0.127996\n",
        "    repetition: 19, "
       ]
      },
      {
       "output_type": "stream",
       "stream": "stdout",
       "text": [
        "mean(u_tip)= 0.020788, CV(u_tip)= 0.131820\n",
        "    repetition: 20, "
       ]
      },
      {
       "output_type": "stream",
       "stream": "stdout",
       "text": [
        "mean(u_tip)= 0.020786, CV(u_tip)= 0.133778\n",
        "    repetition: 21, "
       ]
      },
      {
       "output_type": "stream",
       "stream": "stdout",
       "text": [
        "mean(u_tip)= 0.020759, CV(u_tip)= 0.131452\n",
        "    repetition: 22, "
       ]
      },
      {
       "output_type": "stream",
       "stream": "stdout",
       "text": [
        "mean(u_tip)= 0.020657, CV(u_tip)= 0.128288\n",
        "    repetition: 23, "
       ]
      },
      {
       "output_type": "stream",
       "stream": "stdout",
       "text": [
        "mean(u_tip)= 0.020848, CV(u_tip)= 0.138365\n",
        "    repetition: 24, "
       ]
      },
      {
       "output_type": "stream",
       "stream": "stdout",
       "text": [
        "mean(u_tip)= 0.020927, CV(u_tip)= 0.127458\n",
        "    repetition: 25, "
       ]
      },
      {
       "output_type": "stream",
       "stream": "stdout",
       "text": [
        "mean(u_tip)= 0.020729, CV(u_tip)= 0.137982\n",
        "    repetition: 26, "
       ]
      },
      {
       "output_type": "stream",
       "stream": "stdout",
       "text": [
        "mean(u_tip)= 0.020745, CV(u_tip)= 0.135856\n",
        "    repetition: 27, "
       ]
      },
      {
       "output_type": "stream",
       "stream": "stdout",
       "text": [
        "mean(u_tip)= 0.020693, CV(u_tip)= 0.131929\n",
        "    repetition: 28, "
       ]
      },
      {
       "output_type": "stream",
       "stream": "stdout",
       "text": [
        "mean(u_tip)= 0.020810, CV(u_tip)= 0.127670\n",
        "    repetition: 29, "
       ]
      },
      {
       "output_type": "stream",
       "stream": "stdout",
       "text": [
        "mean(u_tip)= 0.020737, CV(u_tip)= 0.131965\n",
        "    repetition: 30, "
       ]
      },
      {
       "output_type": "stream",
       "stream": "stdout",
       "text": [
        "mean(u_tip)= 0.020544, CV(u_tip)= 0.133065\n",
        "    repetition: 31, "
       ]
      },
      {
       "output_type": "stream",
       "stream": "stdout",
       "text": [
        "mean(u_tip)= 0.020853, CV(u_tip)= 0.132443\n",
        "    repetition: 32, "
       ]
      },
      {
       "output_type": "stream",
       "stream": "stdout",
       "text": [
        "mean(u_tip)= 0.020661, CV(u_tip)= 0.121875\n",
        "    repetition: 33, "
       ]
      },
      {
       "output_type": "stream",
       "stream": "stdout",
       "text": [
        "mean(u_tip)= 0.020655, CV(u_tip)= 0.122179\n",
        "    repetition: 34, "
       ]
      },
      {
       "output_type": "stream",
       "stream": "stdout",
       "text": [
        "mean(u_tip)= 0.020726, CV(u_tip)= 0.121620\n",
        "    repetition: 35, "
       ]
      },
      {
       "output_type": "stream",
       "stream": "stdout",
       "text": [
        "mean(u_tip)= 0.020905, CV(u_tip)= 0.125968\n",
        "    repetition: 36, "
       ]
      },
      {
       "output_type": "stream",
       "stream": "stdout",
       "text": [
        "mean(u_tip)= 0.020941, CV(u_tip)= 0.136442\n",
        "    repetition: 37, "
       ]
      },
      {
       "output_type": "stream",
       "stream": "stdout",
       "text": [
        "mean(u_tip)= 0.020729, CV(u_tip)= 0.136411\n",
        "    repetition: 38, "
       ]
      },
      {
       "output_type": "stream",
       "stream": "stdout",
       "text": [
        "mean(u_tip)= 0.020883, CV(u_tip)= 0.136546\n",
        "    repetition: 39, "
       ]
      },
      {
       "output_type": "stream",
       "stream": "stdout",
       "text": [
        "mean(u_tip)= 0.020909, CV(u_tip)= 0.135011\n",
        "    repetition: 40, "
       ]
      },
      {
       "output_type": "stream",
       "stream": "stdout",
       "text": [
        "mean(u_tip)= 0.020566, CV(u_tip)= 0.128499\n",
        "    repetition: 41, "
       ]
      },
      {
       "output_type": "stream",
       "stream": "stdout",
       "text": [
        "mean(u_tip)= 0.020913, CV(u_tip)= 0.134685\n",
        "    repetition: 42, "
       ]
      },
      {
       "output_type": "stream",
       "stream": "stdout",
       "text": [
        "mean(u_tip)= 0.020925, CV(u_tip)= 0.136148\n",
        "    repetition: 43, "
       ]
      },
      {
       "output_type": "stream",
       "stream": "stdout",
       "text": [
        "mean(u_tip)= 0.020877, CV(u_tip)= 0.128873\n",
        "    repetition: 44, "
       ]
      },
      {
       "output_type": "stream",
       "stream": "stdout",
       "text": [
        "mean(u_tip)= 0.020766, CV(u_tip)= 0.129385\n",
        "    repetition: 45, "
       ]
      },
      {
       "output_type": "stream",
       "stream": "stdout",
       "text": [
        "mean(u_tip)= 0.020706, CV(u_tip)= 0.128825\n",
        "    repetition: 46, "
       ]
      },
      {
       "output_type": "stream",
       "stream": "stdout",
       "text": [
        "mean(u_tip)= 0.020536, CV(u_tip)= 0.127283\n",
        "    repetition: 47, "
       ]
      },
      {
       "output_type": "stream",
       "stream": "stdout",
       "text": [
        "mean(u_tip)= 0.020797, CV(u_tip)= 0.131980\n",
        "    repetition: 48, "
       ]
      },
      {
       "output_type": "stream",
       "stream": "stdout",
       "text": [
        "mean(u_tip)= 0.021002, CV(u_tip)= 0.139577\n",
        "    repetition: 49, "
       ]
      },
      {
       "output_type": "stream",
       "stream": "stdout",
       "text": [
        "mean(u_tip)= 0.020736, CV(u_tip)= 0.133046\n",
        "    repetition: 50, "
       ]
      },
      {
       "output_type": "stream",
       "stream": "stdout",
       "text": [
        "mean(u_tip)= 0.020803, CV(u_tip)= 0.131487\n",
        "Sampling: halton\n",
        "  l_corr: 1.00, N_terms=  9, avgErr[m]= 0.047\n",
        "    repetition:  1, "
       ]
      },
      {
       "output_type": "stream",
       "stream": "stdout",
       "text": [
        "mean(u_tip)= 0.020789, CV(u_tip)= 0.156727\n",
        "    repetition:  2, "
       ]
      },
      {
       "output_type": "stream",
       "stream": "stdout",
       "text": [
        "mean(u_tip)= 0.020778, CV(u_tip)= 0.158773\n",
        "    repetition:  3, "
       ]
      },
      {
       "output_type": "stream",
       "stream": "stdout",
       "text": [
        "mean(u_tip)= 0.020789, CV(u_tip)= 0.158531\n",
        "    repetition:  4, "
       ]
      },
      {
       "output_type": "stream",
       "stream": "stdout",
       "text": [
        "mean(u_tip)= 0.020771, CV(u_tip)= 0.158044\n",
        "    repetition:  5, "
       ]
      },
      {
       "output_type": "stream",
       "stream": "stdout",
       "text": [
        "mean(u_tip)= 0.020791, CV(u_tip)= 0.159554\n",
        "    repetition:  6, "
       ]
      },
      {
       "output_type": "stream",
       "stream": "stdout",
       "text": [
        "mean(u_tip)= 0.020776, CV(u_tip)= 0.157849\n",
        "    repetition:  7, "
       ]
      },
      {
       "output_type": "stream",
       "stream": "stdout",
       "text": [
        "mean(u_tip)= 0.020785, CV(u_tip)= 0.157987\n",
        "    repetition:  8, "
       ]
      },
      {
       "output_type": "stream",
       "stream": "stdout",
       "text": [
        "mean(u_tip)= 0.020758, CV(u_tip)= 0.158570\n",
        "    repetition:  9, "
       ]
      },
      {
       "output_type": "stream",
       "stream": "stdout",
       "text": [
        "mean(u_tip)= 0.020803, CV(u_tip)= 0.159355\n",
        "    repetition: 10, "
       ]
      },
      {
       "output_type": "stream",
       "stream": "stdout",
       "text": [
        "mean(u_tip)= 0.020775, CV(u_tip)= 0.158065\n",
        "    repetition: 11, "
       ]
      },
      {
       "output_type": "stream",
       "stream": "stdout",
       "text": [
        "mean(u_tip)= 0.020773, CV(u_tip)= 0.157410\n",
        "    repetition: 12, "
       ]
      },
      {
       "output_type": "stream",
       "stream": "stdout",
       "text": [
        "mean(u_tip)= 0.020781, CV(u_tip)= 0.158384\n",
        "    repetition: 13, "
       ]
      },
      {
       "output_type": "stream",
       "stream": "stdout",
       "text": [
        "mean(u_tip)= 0.020794, CV(u_tip)= 0.158730\n",
        "    repetition: 14, "
       ]
      },
      {
       "output_type": "stream",
       "stream": "stdout",
       "text": [
        "mean(u_tip)= 0.020770, CV(u_tip)= 0.158469\n",
        "    repetition: 15, "
       ]
      },
      {
       "output_type": "stream",
       "stream": "stdout",
       "text": [
        "mean(u_tip)= 0.020776, CV(u_tip)= 0.158605\n",
        "    repetition: 16, "
       ]
      },
      {
       "output_type": "stream",
       "stream": "stdout",
       "text": [
        "mean(u_tip)= 0.020765, CV(u_tip)= 0.158080\n",
        "    repetition: 17, "
       ]
      },
      {
       "output_type": "stream",
       "stream": "stdout",
       "text": [
        "mean(u_tip)= 0.020789, CV(u_tip)= 0.159052\n",
        "    repetition: 18, "
       ]
      },
      {
       "output_type": "stream",
       "stream": "stdout",
       "text": [
        "mean(u_tip)= 0.020786, CV(u_tip)= 0.158818\n",
        "    repetition: 19, "
       ]
      },
      {
       "output_type": "stream",
       "stream": "stdout",
       "text": [
        "mean(u_tip)= 0.020781, CV(u_tip)= 0.158636\n",
        "    repetition: 20, "
       ]
      },
      {
       "output_type": "stream",
       "stream": "stdout",
       "text": [
        "mean(u_tip)= 0.020766, CV(u_tip)= 0.157854\n",
        "    repetition: 21, "
       ]
      },
      {
       "output_type": "stream",
       "stream": "stdout",
       "text": [
        "mean(u_tip)= 0.020781, CV(u_tip)= 0.159187\n",
        "    repetition: 22, "
       ]
      },
      {
       "output_type": "stream",
       "stream": "stdout",
       "text": [
        "mean(u_tip)= 0.020783, CV(u_tip)= 0.157068\n",
        "    repetition: 23, "
       ]
      },
      {
       "output_type": "stream",
       "stream": "stdout",
       "text": [
        "mean(u_tip)= 0.020781, CV(u_tip)= 0.158365\n",
        "    repetition: 24, "
       ]
      },
      {
       "output_type": "stream",
       "stream": "stdout",
       "text": [
        "mean(u_tip)= 0.020762, CV(u_tip)= 0.157720\n",
        "    repetition: 25, "
       ]
      },
      {
       "output_type": "stream",
       "stream": "stdout",
       "text": [
        "mean(u_tip)= 0.020799, CV(u_tip)= 0.159059\n",
        "    repetition: 26, "
       ]
      },
      {
       "output_type": "stream",
       "stream": "stdout",
       "text": [
        "mean(u_tip)= 0.020777, CV(u_tip)= 0.158290\n",
        "    repetition: 27, "
       ]
      },
      {
       "output_type": "stream",
       "stream": "stdout",
       "text": [
        "mean(u_tip)= 0.020775, CV(u_tip)= 0.157788\n",
        "    repetition: 28, "
       ]
      },
      {
       "output_type": "stream",
       "stream": "stdout",
       "text": [
        "mean(u_tip)= 0.020777, CV(u_tip)= 0.158314\n",
        "    repetition: 29, "
       ]
      },
      {
       "output_type": "stream",
       "stream": "stdout",
       "text": [
        "mean(u_tip)= 0.020782, CV(u_tip)= 0.159906\n",
        "    repetition: 30, "
       ]
      },
      {
       "output_type": "stream",
       "stream": "stdout",
       "text": [
        "mean(u_tip)= 0.020777, CV(u_tip)= 0.157597\n",
        "    repetition: 31, "
       ]
      },
      {
       "output_type": "stream",
       "stream": "stdout",
       "text": [
        "mean(u_tip)= 0.020776, CV(u_tip)= 0.158812\n",
        "    repetition: 32, "
       ]
      },
      {
       "output_type": "stream",
       "stream": "stdout",
       "text": [
        "mean(u_tip)= 0.020759, CV(u_tip)= 0.157903\n",
        "    repetition: 33, "
       ]
      },
      {
       "output_type": "stream",
       "stream": "stdout",
       "text": [
        "mean(u_tip)= 0.020780, CV(u_tip)= 0.159326\n",
        "    repetition: 34, "
       ]
      },
      {
       "output_type": "stream",
       "stream": "stdout",
       "text": [
        "mean(u_tip)= 0.020801, CV(u_tip)= 0.158365\n",
        "    repetition: 35, "
       ]
      },
      {
       "output_type": "stream",
       "stream": "stdout",
       "text": [
        "mean(u_tip)= 0.020784, CV(u_tip)= 0.158113\n",
        "    repetition: 36, "
       ]
      },
      {
       "output_type": "stream",
       "stream": "stdout",
       "text": [
        "mean(u_tip)= 0.020777, CV(u_tip)= 0.158432\n",
        "    repetition: 37, "
       ]
      },
      {
       "output_type": "stream",
       "stream": "stdout",
       "text": [
        "mean(u_tip)= 0.020770, CV(u_tip)= 0.159054\n",
        "    repetition: 38, "
       ]
      },
      {
       "output_type": "stream",
       "stream": "stdout",
       "text": [
        "mean(u_tip)= 0.020791, CV(u_tip)= 0.158393\n",
        "    repetition: 39, "
       ]
      },
      {
       "output_type": "stream",
       "stream": "stdout",
       "text": [
        "mean(u_tip)= 0.020775, CV(u_tip)= 0.157350\n",
        "    repetition: 40, "
       ]
      },
      {
       "output_type": "stream",
       "stream": "stdout",
       "text": [
        "mean(u_tip)= 0.020778, CV(u_tip)= 0.159200\n",
        "    repetition: 41, "
       ]
      },
      {
       "output_type": "stream",
       "stream": "stdout",
       "text": [
        "mean(u_tip)= 0.020767, CV(u_tip)= 0.159268\n",
        "    repetition: 42, "
       ]
      },
      {
       "output_type": "stream",
       "stream": "stdout",
       "text": [
        "mean(u_tip)= 0.020783, CV(u_tip)= 0.158115\n",
        "    repetition: 43, "
       ]
      },
      {
       "output_type": "stream",
       "stream": "stdout",
       "text": [
        "mean(u_tip)= 0.020765, CV(u_tip)= 0.156143\n",
        "    repetition: 44, "
       ]
      },
      {
       "output_type": "stream",
       "stream": "stdout",
       "text": [
        "mean(u_tip)= 0.020792, CV(u_tip)= 0.158794\n",
        "    repetition: 45, "
       ]
      },
      {
       "output_type": "stream",
       "stream": "stdout",
       "text": [
        "mean(u_tip)= 0.020770, CV(u_tip)= 0.157657\n",
        "    repetition: 46, "
       ]
      },
      {
       "output_type": "stream",
       "stream": "stdout",
       "text": [
        "mean(u_tip)= 0.020790, CV(u_tip)= 0.159430\n",
        "    repetition: 47, "
       ]
      },
      {
       "output_type": "stream",
       "stream": "stdout",
       "text": [
        "mean(u_tip)= 0.020770, CV(u_tip)= 0.157001\n",
        "    repetition: 48, "
       ]
      },
      {
       "output_type": "stream",
       "stream": "stdout",
       "text": [
        "mean(u_tip)= 0.020776, CV(u_tip)= 0.158839\n",
        "    repetition: 49, "
       ]
      },
      {
       "output_type": "stream",
       "stream": "stdout",
       "text": [
        "mean(u_tip)= 0.020768, CV(u_tip)= 0.157393\n",
        "    repetition: 50, "
       ]
      },
      {
       "output_type": "stream",
       "stream": "stdout",
       "text": [
        "mean(u_tip)= 0.020798, CV(u_tip)= 0.160378\n",
        "  l_corr: 0.50, N_terms= 17, avgErr[m]= 0.049\n",
        "    repetition:  1, "
       ]
      },
      {
       "output_type": "stream",
       "stream": "stdout",
       "text": [
        "mean(u_tip)= 0.020785, CV(u_tip)= 0.131295\n",
        "    repetition:  2, "
       ]
      },
      {
       "output_type": "stream",
       "stream": "stdout",
       "text": [
        "mean(u_tip)= 0.020778, CV(u_tip)= 0.133644\n",
        "    repetition:  3, "
       ]
      },
      {
       "output_type": "stream",
       "stream": "stdout",
       "text": [
        "mean(u_tip)= 0.020787, CV(u_tip)= 0.132766\n",
        "    repetition:  4, "
       ]
      },
      {
       "output_type": "stream",
       "stream": "stdout",
       "text": [
        "mean(u_tip)= 0.020773, CV(u_tip)= 0.132869\n",
        "    repetition:  5, "
       ]
      },
      {
       "output_type": "stream",
       "stream": "stdout",
       "text": [
        "mean(u_tip)= 0.020790, CV(u_tip)= 0.133861\n",
        "    repetition:  6, "
       ]
      },
      {
       "output_type": "stream",
       "stream": "stdout",
       "text": [
        "mean(u_tip)= 0.020778, CV(u_tip)= 0.132704\n",
        "    repetition:  7, "
       ]
      },
      {
       "output_type": "stream",
       "stream": "stdout",
       "text": [
        "mean(u_tip)= 0.020783, CV(u_tip)= 0.132456\n",
        "    repetition:  8, "
       ]
      },
      {
       "output_type": "stream",
       "stream": "stdout",
       "text": [
        "mean(u_tip)= 0.020760, CV(u_tip)= 0.133214\n",
        "    repetition:  9, "
       ]
      },
      {
       "output_type": "stream",
       "stream": "stdout",
       "text": [
        "mean(u_tip)= 0.020799, CV(u_tip)= 0.133621\n",
        "    repetition: 10, "
       ]
      },
      {
       "output_type": "stream",
       "stream": "stdout",
       "text": [
        "mean(u_tip)= 0.020781, CV(u_tip)= 0.132693\n",
        "    repetition: 11, "
       ]
      },
      {
       "output_type": "stream",
       "stream": "stdout",
       "text": [
        "mean(u_tip)= 0.020776, CV(u_tip)= 0.132454\n",
        "    repetition: 12, "
       ]
      },
      {
       "output_type": "stream",
       "stream": "stdout",
       "text": [
        "mean(u_tip)= 0.020782, CV(u_tip)= 0.133079\n",
        "    repetition: 13, "
       ]
      },
      {
       "output_type": "stream",
       "stream": "stdout",
       "text": [
        "mean(u_tip)= 0.020788, CV(u_tip)= 0.133055\n",
        "    repetition: 14, "
       ]
      },
      {
       "output_type": "stream",
       "stream": "stdout",
       "text": [
        "mean(u_tip)= 0.020771, CV(u_tip)= 0.133465\n",
        "    repetition: 15, "
       ]
      },
      {
       "output_type": "stream",
       "stream": "stdout",
       "text": [
        "mean(u_tip)= 0.020778, CV(u_tip)= 0.132590\n",
        "    repetition: 16, "
       ]
      },
      {
       "output_type": "stream",
       "stream": "stdout",
       "text": [
        "mean(u_tip)= 0.020774, CV(u_tip)= 0.132998\n",
        "    repetition: 17, "
       ]
      },
      {
       "output_type": "stream",
       "stream": "stdout",
       "text": [
        "mean(u_tip)= 0.020788, CV(u_tip)= 0.133332\n",
        "    repetition: 18, "
       ]
      },
      {
       "output_type": "stream",
       "stream": "stdout",
       "text": [
        "mean(u_tip)= 0.020781, CV(u_tip)= 0.133473\n",
        "    repetition: 19, "
       ]
      },
      {
       "output_type": "stream",
       "stream": "stdout",
       "text": [
        "mean(u_tip)= 0.020781, CV(u_tip)= 0.133148\n",
        "    repetition: 20, "
       ]
      },
      {
       "output_type": "stream",
       "stream": "stdout",
       "text": [
        "mean(u_tip)= 0.020769, CV(u_tip)= 0.132567\n",
        "    repetition: 21, "
       ]
      },
      {
       "output_type": "stream",
       "stream": "stdout",
       "text": [
        "mean(u_tip)= 0.020782, CV(u_tip)= 0.133683\n",
        "    repetition: 22, "
       ]
      },
      {
       "output_type": "stream",
       "stream": "stdout",
       "text": [
        "mean(u_tip)= 0.020787, CV(u_tip)= 0.132085\n",
        "    repetition: 23, "
       ]
      },
      {
       "output_type": "stream",
       "stream": "stdout",
       "text": [
        "mean(u_tip)= 0.020778, CV(u_tip)= 0.132742\n",
        "    repetition: 24, "
       ]
      },
      {
       "output_type": "stream",
       "stream": "stdout",
       "text": [
        "mean(u_tip)= 0.020765, CV(u_tip)= 0.132461\n",
        "    repetition: 25, "
       ]
      },
      {
       "output_type": "stream",
       "stream": "stdout",
       "text": [
        "mean(u_tip)= 0.020798, CV(u_tip)= 0.133762\n",
        "    repetition: 26, "
       ]
      },
      {
       "output_type": "stream",
       "stream": "stdout",
       "text": [
        "mean(u_tip)= 0.020776, CV(u_tip)= 0.132773\n",
        "    repetition: 27, "
       ]
      },
      {
       "output_type": "stream",
       "stream": "stdout",
       "text": [
        "mean(u_tip)= 0.020779, CV(u_tip)= 0.132626\n",
        "    repetition: 28, "
       ]
      },
      {
       "output_type": "stream",
       "stream": "stdout",
       "text": [
        "mean(u_tip)= 0.020774, CV(u_tip)= 0.132879\n",
        "    repetition: 29, "
       ]
      },
      {
       "output_type": "stream",
       "stream": "stdout",
       "text": [
        "mean(u_tip)= 0.020786, CV(u_tip)= 0.134561\n",
        "    repetition: 30, "
       ]
      },
      {
       "output_type": "stream",
       "stream": "stdout",
       "text": [
        "mean(u_tip)= 0.020774, CV(u_tip)= 0.132121\n",
        "    repetition: 31, "
       ]
      },
      {
       "output_type": "stream",
       "stream": "stdout",
       "text": [
        "mean(u_tip)= 0.020781, CV(u_tip)= 0.133363\n",
        "    repetition: 32, "
       ]
      },
      {
       "output_type": "stream",
       "stream": "stdout",
       "text": [
        "mean(u_tip)= 0.020760, CV(u_tip)= 0.132534\n",
        "    repetition: 33, "
       ]
      },
      {
       "output_type": "stream",
       "stream": "stdout",
       "text": [
        "mean(u_tip)= 0.020779, CV(u_tip)= 0.133715\n",
        "    repetition: 34, "
       ]
      },
      {
       "output_type": "stream",
       "stream": "stdout",
       "text": [
        "mean(u_tip)= 0.020800, CV(u_tip)= 0.133054\n",
        "    repetition: 35, "
       ]
      },
      {
       "output_type": "stream",
       "stream": "stdout",
       "text": [
        "mean(u_tip)= 0.020788, CV(u_tip)= 0.132718\n",
        "    repetition: 36, "
       ]
      },
      {
       "output_type": "stream",
       "stream": "stdout",
       "text": [
        "mean(u_tip)= 0.020777, CV(u_tip)= 0.132958\n",
        "    repetition: 37, "
       ]
      },
      {
       "output_type": "stream",
       "stream": "stdout",
       "text": [
        "mean(u_tip)= 0.020771, CV(u_tip)= 0.133523\n",
        "    repetition: 38, "
       ]
      },
      {
       "output_type": "stream",
       "stream": "stdout",
       "text": [
        "mean(u_tip)= 0.020787, CV(u_tip)= 0.132999\n",
        "    repetition: 39, "
       ]
      },
      {
       "output_type": "stream",
       "stream": "stdout",
       "text": [
        "mean(u_tip)= 0.020776, CV(u_tip)= 0.132092\n",
        "    repetition: 40, "
       ]
      },
      {
       "output_type": "stream",
       "stream": "stdout",
       "text": [
        "mean(u_tip)= 0.020782, CV(u_tip)= 0.133774\n",
        "    repetition: 41, "
       ]
      },
      {
       "output_type": "stream",
       "stream": "stdout",
       "text": [
        "mean(u_tip)= 0.020774, CV(u_tip)= 0.134028\n",
        "    repetition: 42, "
       ]
      },
      {
       "output_type": "stream",
       "stream": "stdout",
       "text": [
        "mean(u_tip)= 0.020780, CV(u_tip)= 0.132444\n",
        "    repetition: 43, "
       ]
      },
      {
       "output_type": "stream",
       "stream": "stdout",
       "text": [
        "mean(u_tip)= 0.020768, CV(u_tip)= 0.131281\n",
        "    repetition: 44, "
       ]
      },
      {
       "output_type": "stream",
       "stream": "stdout",
       "text": [
        "mean(u_tip)= 0.020788, CV(u_tip)= 0.133399\n",
        "    repetition: 45, "
       ]
      },
      {
       "output_type": "stream",
       "stream": "stdout",
       "text": [
        "mean(u_tip)= 0.020772, CV(u_tip)= 0.132434\n",
        "    repetition: 46, "
       ]
      },
      {
       "output_type": "stream",
       "stream": "stdout",
       "text": [
        "mean(u_tip)= 0.020792, CV(u_tip)= 0.133738\n",
        "    repetition: 47, "
       ]
      },
      {
       "output_type": "stream",
       "stream": "stdout",
       "text": [
        "mean(u_tip)= 0.020774, CV(u_tip)= 0.131958\n",
        "    repetition: 48, "
       ]
      },
      {
       "output_type": "stream",
       "stream": "stdout",
       "text": [
        "mean(u_tip)= 0.020778, CV(u_tip)= 0.133258\n",
        "    repetition: 49, "
       ]
      },
      {
       "output_type": "stream",
       "stream": "stdout",
       "text": [
        "mean(u_tip)= 0.020771, CV(u_tip)= 0.132378\n",
        "    repetition: 50, "
       ]
      },
      {
       "output_type": "stream",
       "stream": "stdout",
       "text": [
        "mean(u_tip)= 0.020793, CV(u_tip)= 0.134548\n",
        "Sampling: lhs\n",
        "  l_corr: 1.00, N_terms=  9, avgErr[m]= 0.047\n",
        "    repetition:  1, "
       ]
      },
      {
       "output_type": "stream",
       "stream": "stdout",
       "text": [
        "mean(u_tip)= 0.020779, CV(u_tip)= 0.159769\n",
        "    repetition:  2, "
       ]
      },
      {
       "output_type": "stream",
       "stream": "stdout",
       "text": [
        "mean(u_tip)= 0.020766, CV(u_tip)= 0.154878\n",
        "    repetition:  3, "
       ]
      },
      {
       "output_type": "stream",
       "stream": "stdout",
       "text": [
        "mean(u_tip)= 0.020781, CV(u_tip)= 0.159435\n",
        "    repetition:  4, "
       ]
      },
      {
       "output_type": "stream",
       "stream": "stdout",
       "text": [
        "mean(u_tip)= 0.020782, CV(u_tip)= 0.157425\n",
        "    repetition:  5, "
       ]
      },
      {
       "output_type": "stream",
       "stream": "stdout",
       "text": [
        "mean(u_tip)= 0.020767, CV(u_tip)= 0.154326\n",
        "    repetition:  6, "
       ]
      },
      {
       "output_type": "stream",
       "stream": "stdout",
       "text": [
        "mean(u_tip)= 0.020782, CV(u_tip)= 0.159012\n",
        "    repetition:  7, "
       ]
      },
      {
       "output_type": "stream",
       "stream": "stdout",
       "text": [
        "mean(u_tip)= 0.020796, CV(u_tip)= 0.163051\n",
        "    repetition:  8, "
       ]
      },
      {
       "output_type": "stream",
       "stream": "stdout",
       "text": [
        "mean(u_tip)= 0.020782, CV(u_tip)= 0.158318\n",
        "    repetition:  9, "
       ]
      },
      {
       "output_type": "stream",
       "stream": "stdout",
       "text": [
        "mean(u_tip)= 0.020783, CV(u_tip)= 0.160598\n",
        "    repetition: 10, "
       ]
      },
      {
       "output_type": "stream",
       "stream": "stdout",
       "text": [
        "mean(u_tip)= 0.020778, CV(u_tip)= 0.157179\n",
        "    repetition: 11, "
       ]
      },
      {
       "output_type": "stream",
       "stream": "stdout",
       "text": [
        "mean(u_tip)= 0.020785, CV(u_tip)= 0.160648\n",
        "    repetition: 12, "
       ]
      },
      {
       "output_type": "stream",
       "stream": "stdout",
       "text": [
        "mean(u_tip)= 0.020783, CV(u_tip)= 0.160362\n",
        "    repetition: 13, "
       ]
      },
      {
       "output_type": "stream",
       "stream": "stdout",
       "text": [
        "mean(u_tip)= 0.020786, CV(u_tip)= 0.160931\n",
        "    repetition: 14, "
       ]
      },
      {
       "output_type": "stream",
       "stream": "stdout",
       "text": [
        "mean(u_tip)= 0.020775, CV(u_tip)= 0.157590\n",
        "    repetition: 15, "
       ]
      },
      {
       "output_type": "stream",
       "stream": "stdout",
       "text": [
        "mean(u_tip)= 0.020774, CV(u_tip)= 0.156186\n",
        "    repetition: 16, "
       ]
      },
      {
       "output_type": "stream",
       "stream": "stdout",
       "text": [
        "mean(u_tip)= 0.020786, CV(u_tip)= 0.161800\n",
        "    repetition: 17, "
       ]
      },
      {
       "output_type": "stream",
       "stream": "stdout",
       "text": [
        "mean(u_tip)= 0.020784, CV(u_tip)= 0.157768\n",
        "    repetition: 18, "
       ]
      },
      {
       "output_type": "stream",
       "stream": "stdout",
       "text": [
        "mean(u_tip)= 0.020777, CV(u_tip)= 0.158234\n",
        "    repetition: 19, "
       ]
      },
      {
       "output_type": "stream",
       "stream": "stdout",
       "text": [
        "mean(u_tip)= 0.020774, CV(u_tip)= 0.157282\n",
        "    repetition: 20, "
       ]
      },
      {
       "output_type": "stream",
       "stream": "stdout",
       "text": [
        "mean(u_tip)= 0.020763, CV(u_tip)= 0.153195\n",
        "    repetition: 21, "
       ]
      },
      {
       "output_type": "stream",
       "stream": "stdout",
       "text": [
        "mean(u_tip)= 0.020764, CV(u_tip)= 0.154691\n",
        "    repetition: 22, "
       ]
      },
      {
       "output_type": "stream",
       "stream": "stdout",
       "text": [
        "mean(u_tip)= 0.020774, CV(u_tip)= 0.156303\n",
        "    repetition: 23, "
       ]
      },
      {
       "output_type": "stream",
       "stream": "stdout",
       "text": [
        "mean(u_tip)= 0.020775, CV(u_tip)= 0.157537\n",
        "    repetition: 24, "
       ]
      },
      {
       "output_type": "stream",
       "stream": "stdout",
       "text": [
        "mean(u_tip)= 0.020777, CV(u_tip)= 0.157214\n",
        "    repetition: 25, "
       ]
      },
      {
       "output_type": "stream",
       "stream": "stdout",
       "text": [
        "mean(u_tip)= 0.020780, CV(u_tip)= 0.158870\n",
        "    repetition: 26, "
       ]
      },
      {
       "output_type": "stream",
       "stream": "stdout",
       "text": [
        "mean(u_tip)= 0.020790, CV(u_tip)= 0.163872\n",
        "    repetition: 27, "
       ]
      },
      {
       "output_type": "stream",
       "stream": "stdout",
       "text": [
        "mean(u_tip)= 0.020774, CV(u_tip)= 0.156658\n",
        "    repetition: 28, "
       ]
      },
      {
       "output_type": "stream",
       "stream": "stdout",
       "text": [
        "mean(u_tip)= 0.020777, CV(u_tip)= 0.158572\n",
        "    repetition: 29, "
       ]
      },
      {
       "output_type": "stream",
       "stream": "stdout",
       "text": [
        "mean(u_tip)= 0.020778, CV(u_tip)= 0.156922\n",
        "    repetition: 30, "
       ]
      },
      {
       "output_type": "stream",
       "stream": "stdout",
       "text": [
        "mean(u_tip)= 0.020786, CV(u_tip)= 0.161875\n",
        "    repetition: 31, "
       ]
      },
      {
       "output_type": "stream",
       "stream": "stdout",
       "text": [
        "mean(u_tip)= 0.020781, CV(u_tip)= 0.160908\n",
        "    repetition: 32, "
       ]
      },
      {
       "output_type": "stream",
       "stream": "stdout",
       "text": [
        "mean(u_tip)= 0.020770, CV(u_tip)= 0.154687\n",
        "    repetition: 33, "
       ]
      },
      {
       "output_type": "stream",
       "stream": "stdout",
       "text": [
        "mean(u_tip)= 0.020775, CV(u_tip)= 0.155455\n",
        "    repetition: 34, "
       ]
      },
      {
       "output_type": "stream",
       "stream": "stdout",
       "text": [
        "mean(u_tip)= 0.020792, CV(u_tip)= 0.161099\n",
        "    repetition: 35, "
       ]
      },
      {
       "output_type": "stream",
       "stream": "stdout",
       "text": [
        "mean(u_tip)= 0.020771, CV(u_tip)= 0.156139\n",
        "    repetition: 36, "
       ]
      },
      {
       "output_type": "stream",
       "stream": "stdout",
       "text": [
        "mean(u_tip)= 0.020774, CV(u_tip)= 0.157686\n",
        "    repetition: 37, "
       ]
      },
      {
       "output_type": "stream",
       "stream": "stdout",
       "text": [
        "mean(u_tip)= 0.020777, CV(u_tip)= 0.158535\n",
        "    repetition: 38, "
       ]
      },
      {
       "output_type": "stream",
       "stream": "stdout",
       "text": [
        "mean(u_tip)= 0.020795, CV(u_tip)= 0.160964\n",
        "    repetition: 39, "
       ]
      },
      {
       "output_type": "stream",
       "stream": "stdout",
       "text": [
        "mean(u_tip)= 0.020784, CV(u_tip)= 0.162673\n",
        "    repetition: 40, "
       ]
      },
      {
       "output_type": "stream",
       "stream": "stdout",
       "text": [
        "mean(u_tip)= 0.020783, CV(u_tip)= 0.160848\n",
        "    repetition: 41, "
       ]
      },
      {
       "output_type": "stream",
       "stream": "stdout",
       "text": [
        "mean(u_tip)= 0.020778, CV(u_tip)= 0.158560\n",
        "    repetition: 42, "
       ]
      },
      {
       "output_type": "stream",
       "stream": "stdout",
       "text": [
        "mean(u_tip)= 0.020784, CV(u_tip)= 0.160477\n",
        "    repetition: 43, "
       ]
      },
      {
       "output_type": "stream",
       "stream": "stdout",
       "text": [
        "mean(u_tip)= 0.020768, CV(u_tip)= 0.155081\n",
        "    repetition: 44, "
       ]
      },
      {
       "output_type": "stream",
       "stream": "stdout",
       "text": [
        "mean(u_tip)= 0.020777, CV(u_tip)= 0.156541\n",
        "    repetition: 45, "
       ]
      },
      {
       "output_type": "stream",
       "stream": "stdout",
       "text": [
        "mean(u_tip)= 0.020777, CV(u_tip)= 0.156525\n",
        "    repetition: 46, "
       ]
      },
      {
       "output_type": "stream",
       "stream": "stdout",
       "text": [
        "mean(u_tip)= 0.020760, CV(u_tip)= 0.152521\n",
        "    repetition: 47, "
       ]
      },
      {
       "output_type": "stream",
       "stream": "stdout",
       "text": [
        "mean(u_tip)= 0.020769, CV(u_tip)= 0.155584\n",
        "    repetition: 48, "
       ]
      },
      {
       "output_type": "stream",
       "stream": "stdout",
       "text": [
        "mean(u_tip)= 0.020778, CV(u_tip)= 0.156233\n",
        "    repetition: 49, "
       ]
      },
      {
       "output_type": "stream",
       "stream": "stdout",
       "text": [
        "mean(u_tip)= 0.020784, CV(u_tip)= 0.160261\n",
        "    repetition: 50, "
       ]
      },
      {
       "output_type": "stream",
       "stream": "stdout",
       "text": [
        "mean(u_tip)= 0.020772, CV(u_tip)= 0.155804\n",
        "  l_corr: 0.50, N_terms= 17, avgErr[m]= 0.049\n",
        "    repetition:  1, "
       ]
      },
      {
       "output_type": "stream",
       "stream": "stdout",
       "text": [
        "mean(u_tip)= 0.020772, CV(u_tip)= 0.130632\n",
        "    repetition:  2, "
       ]
      },
      {
       "output_type": "stream",
       "stream": "stdout",
       "text": [
        "mean(u_tip)= 0.020794, CV(u_tip)= 0.139266\n",
        "    repetition:  3, "
       ]
      },
      {
       "output_type": "stream",
       "stream": "stdout",
       "text": [
        "mean(u_tip)= 0.020775, CV(u_tip)= 0.131032\n",
        "    repetition:  4, "
       ]
      },
      {
       "output_type": "stream",
       "stream": "stdout",
       "text": [
        "mean(u_tip)= 0.020797, CV(u_tip)= 0.139333\n",
        "    repetition:  5, "
       ]
      },
      {
       "output_type": "stream",
       "stream": "stdout",
       "text": [
        "mean(u_tip)= 0.020786, CV(u_tip)= 0.134010\n",
        "    repetition:  6, "
       ]
      },
      {
       "output_type": "stream",
       "stream": "stdout",
       "text": [
        "mean(u_tip)= 0.020794, CV(u_tip)= 0.137671\n",
        "    repetition:  7, "
       ]
      },
      {
       "output_type": "stream",
       "stream": "stdout",
       "text": [
        "mean(u_tip)= 0.020781, CV(u_tip)= 0.132491\n",
        "    repetition:  8, "
       ]
      },
      {
       "output_type": "stream",
       "stream": "stdout",
       "text": [
        "mean(u_tip)= 0.020769, CV(u_tip)= 0.128900\n",
        "    repetition:  9, "
       ]
      },
      {
       "output_type": "stream",
       "stream": "stdout",
       "text": [
        "mean(u_tip)= 0.020772, CV(u_tip)= 0.130845\n",
        "    repetition: 10, "
       ]
      },
      {
       "output_type": "stream",
       "stream": "stdout",
       "text": [
        "mean(u_tip)= 0.020783, CV(u_tip)= 0.133226\n",
        "    repetition: 11, "
       ]
      },
      {
       "output_type": "stream",
       "stream": "stdout",
       "text": [
        "mean(u_tip)= 0.020778, CV(u_tip)= 0.131923\n",
        "    repetition: 12, "
       ]
      },
      {
       "output_type": "stream",
       "stream": "stdout",
       "text": [
        "mean(u_tip)= 0.020783, CV(u_tip)= 0.134331\n",
        "    repetition: 13, "
       ]
      },
      {
       "output_type": "stream",
       "stream": "stdout",
       "text": [
        "mean(u_tip)= 0.020782, CV(u_tip)= 0.133198\n",
        "    repetition: 14, "
       ]
      },
      {
       "output_type": "stream",
       "stream": "stdout",
       "text": [
        "mean(u_tip)= 0.020780, CV(u_tip)= 0.134879\n",
        "    repetition: 15, "
       ]
      },
      {
       "output_type": "stream",
       "stream": "stdout",
       "text": [
        "mean(u_tip)= 0.020781, CV(u_tip)= 0.134804\n",
        "    repetition: 16, "
       ]
      },
      {
       "output_type": "stream",
       "stream": "stdout",
       "text": [
        "mean(u_tip)= 0.020774, CV(u_tip)= 0.134217\n",
        "    repetition: 17, "
       ]
      },
      {
       "output_type": "stream",
       "stream": "stdout",
       "text": [
        "mean(u_tip)= 0.020775, CV(u_tip)= 0.131595\n",
        "    repetition: 18, "
       ]
      },
      {
       "output_type": "stream",
       "stream": "stdout",
       "text": [
        "mean(u_tip)= 0.020788, CV(u_tip)= 0.136132\n",
        "    repetition: 19, "
       ]
      },
      {
       "output_type": "stream",
       "stream": "stdout",
       "text": [
        "mean(u_tip)= 0.020775, CV(u_tip)= 0.130861\n",
        "    repetition: 20, "
       ]
      },
      {
       "output_type": "stream",
       "stream": "stdout",
       "text": [
        "mean(u_tip)= 0.020775, CV(u_tip)= 0.132092\n",
        "    repetition: 21, "
       ]
      },
      {
       "output_type": "stream",
       "stream": "stdout",
       "text": [
        "mean(u_tip)= 0.020780, CV(u_tip)= 0.131789\n",
        "    repetition: 22, "
       ]
      },
      {
       "output_type": "stream",
       "stream": "stdout",
       "text": [
        "mean(u_tip)= 0.020770, CV(u_tip)= 0.129947\n",
        "    repetition: 23, "
       ]
      },
      {
       "output_type": "stream",
       "stream": "stdout",
       "text": [
        "mean(u_tip)= 0.020781, CV(u_tip)= 0.132590\n",
        "    repetition: 24, "
       ]
      },
      {
       "output_type": "stream",
       "stream": "stdout",
       "text": [
        "mean(u_tip)= 0.020776, CV(u_tip)= 0.130364\n",
        "    repetition: 25, "
       ]
      },
      {
       "output_type": "stream",
       "stream": "stdout",
       "text": [
        "mean(u_tip)= 0.020776, CV(u_tip)= 0.132823\n",
        "    repetition: 26, "
       ]
      },
      {
       "output_type": "stream",
       "stream": "stdout",
       "text": [
        "mean(u_tip)= 0.020774, CV(u_tip)= 0.131968\n",
        "    repetition: 27, "
       ]
      },
      {
       "output_type": "stream",
       "stream": "stdout",
       "text": [
        "mean(u_tip)= 0.020787, CV(u_tip)= 0.135095\n",
        "    repetition: 28, "
       ]
      },
      {
       "output_type": "stream",
       "stream": "stdout",
       "text": [
        "mean(u_tip)= 0.020783, CV(u_tip)= 0.134485\n",
        "    repetition: 29, "
       ]
      },
      {
       "output_type": "stream",
       "stream": "stdout",
       "text": [
        "mean(u_tip)= 0.020781, CV(u_tip)= 0.134286\n",
        "    repetition: 30, "
       ]
      },
      {
       "output_type": "stream",
       "stream": "stdout",
       "text": [
        "mean(u_tip)= 0.020777, CV(u_tip)= 0.134402\n",
        "    repetition: 31, "
       ]
      },
      {
       "output_type": "stream",
       "stream": "stdout",
       "text": [
        "mean(u_tip)= 0.020789, CV(u_tip)= 0.137834\n",
        "    repetition: 32, "
       ]
      },
      {
       "output_type": "stream",
       "stream": "stdout",
       "text": [
        "mean(u_tip)= 0.020789, CV(u_tip)= 0.135423\n",
        "    repetition: 33, "
       ]
      },
      {
       "output_type": "stream",
       "stream": "stdout",
       "text": [
        "mean(u_tip)= 0.020775, CV(u_tip)= 0.131759\n",
        "    repetition: 34, "
       ]
      },
      {
       "output_type": "stream",
       "stream": "stdout",
       "text": [
        "mean(u_tip)= 0.020779, CV(u_tip)= 0.133423\n",
        "    repetition: 35, "
       ]
      },
      {
       "output_type": "stream",
       "stream": "stdout",
       "text": [
        "mean(u_tip)= 0.020781, CV(u_tip)= 0.132442\n",
        "    repetition: 36, "
       ]
      },
      {
       "output_type": "stream",
       "stream": "stdout",
       "text": [
        "mean(u_tip)= 0.020798, CV(u_tip)= 0.136799\n",
        "    repetition: 37, "
       ]
      },
      {
       "output_type": "stream",
       "stream": "stdout",
       "text": [
        "mean(u_tip)= 0.020791, CV(u_tip)= 0.135372\n",
        "    repetition: 38, "
       ]
      },
      {
       "output_type": "stream",
       "stream": "stdout",
       "text": [
        "mean(u_tip)= 0.020781, CV(u_tip)= 0.132758\n",
        "    repetition: 39, "
       ]
      },
      {
       "output_type": "stream",
       "stream": "stdout",
       "text": [
        "mean(u_tip)= 0.020773, CV(u_tip)= 0.130785\n",
        "    repetition: 40, "
       ]
      },
      {
       "output_type": "stream",
       "stream": "stdout",
       "text": [
        "mean(u_tip)= 0.020795, CV(u_tip)= 0.138642\n",
        "    repetition: 41, "
       ]
      },
      {
       "output_type": "stream",
       "stream": "stdout",
       "text": [
        "mean(u_tip)= 0.020777, CV(u_tip)= 0.131782\n",
        "    repetition: 42, "
       ]
      },
      {
       "output_type": "stream",
       "stream": "stdout",
       "text": [
        "mean(u_tip)= 0.020790, CV(u_tip)= 0.134210\n",
        "    repetition: 43, "
       ]
      },
      {
       "output_type": "stream",
       "stream": "stdout",
       "text": [
        "mean(u_tip)= 0.020783, CV(u_tip)= 0.134180\n",
        "    repetition: 44, "
       ]
      },
      {
       "output_type": "stream",
       "stream": "stdout",
       "text": [
        "mean(u_tip)= 0.020794, CV(u_tip)= 0.137951\n",
        "    repetition: 45, "
       ]
      },
      {
       "output_type": "stream",
       "stream": "stdout",
       "text": [
        "mean(u_tip)= 0.020775, CV(u_tip)= 0.132459\n",
        "    repetition: 46, "
       ]
      },
      {
       "output_type": "stream",
       "stream": "stdout",
       "text": [
        "mean(u_tip)= 0.020770, CV(u_tip)= 0.128161\n",
        "    repetition: 47, "
       ]
      },
      {
       "output_type": "stream",
       "stream": "stdout",
       "text": [
        "mean(u_tip)= 0.020781, CV(u_tip)= 0.133793\n",
        "    repetition: 48, "
       ]
      },
      {
       "output_type": "stream",
       "stream": "stdout",
       "text": [
        "mean(u_tip)= 0.020780, CV(u_tip)= 0.131922\n",
        "    repetition: 49, "
       ]
      },
      {
       "output_type": "stream",
       "stream": "stdout",
       "text": [
        "mean(u_tip)= 0.020777, CV(u_tip)= 0.131740\n",
        "    repetition: 50, "
       ]
      },
      {
       "output_type": "stream",
       "stream": "stdout",
       "text": [
        "mean(u_tip)= 0.020784, CV(u_tip)= 0.134431\n"
       ]
      }
     ],
     "prompt_number": 4
    },
    {
     "cell_type": "heading",
     "level": 3,
     "source": [
      "(a) Estimate the statistics (mean and coefficient of variation) of the tip with\n",
      "500 samples."
     ]
    },
    {
     "cell_type": "code",
     "collapsed": false,
     "input": [
      "# loop over correlation legths\n",
      "for k,l in enumerate(l_corr):\n",
      "    print '%s: l_coor= %.2f, u_tip_MC= %.6f, u_tip_CV= %.6f' % ('PSEUDO', l_corr[k], u_tip_mean[0,k,0], u_tip_CV[0,k,0])\n",
      "    print '%s: l_coor= %.2f, u_tip_MC= %.6f, u_tip_CV= %.6f' % ('HALTON', l_corr[k], u_tip_mean[1,k,0], u_tip_CV[1,k,0])\n",
      "    print '%s: l_coor= %.2f, u_tip_MC= %.6f, u_tip_CV= %.6f' % ('LHS   ', l_corr[k], u_tip_mean[2,k,0], u_tip_CV[2,k,0])\n",
      "    print ''"
     ],
     "language": "python",
     "outputs": [
      {
       "output_type": "stream",
       "stream": "stdout",
       "text": [
        "PSEUDO: l_coor= 1.00, u_tip_MC= 0.020745, u_tip_CV= 0.158390\n",
        "HALTON: l_coor= 1.00, u_tip_MC= 0.020789, u_tip_CV= 0.156727\n",
        "LHS   : l_coor= 1.00, u_tip_MC= 0.020779, u_tip_CV= 0.159769\n",
        "\n",
        "PSEUDO: l_coor= 0.50, u_tip_MC= 0.020610, u_tip_CV= 0.137628\n",
        "HALTON: l_coor= 0.50, u_tip_MC= 0.020785, u_tip_CV= 0.131295\n",
        "LHS   : l_coor= 0.50, u_tip_MC= 0.020772, u_tip_CV= 0.130632\n",
        "\n"
       ]
      }
     ],
     "prompt_number": 24
    },
    {
     "cell_type": "markdown",
     "source": [
      "### (b) Estimate the statistics (the mean and standard deviation) of your estimates through performing 50 repeated simulations.\n",
      "\n",
      "### (c) Compare the performance of pseudo random sampling, Latin hypercube sampling and quasi-random sampling.\n",
      "\n",
      "### (d) Estimate the mean and standard deviation of the tip displacement for the case where the correlation length of the random field is l=0.5m. Make sure that the random field is represented accurately by choosing appropriately the number of terms in the Karhunen-Lo&egrave;ve expansion.\n"
     ]
    },
    {
     "cell_type": "heading",
     "level": 4,
     "source": [
      "Mean and coefficient of variation of the Monte Carlo mean tip displacement estimate"
     ]
    },
    {
     "cell_type": "code",
     "collapsed": false,
     "input": [
      "samplings =['PSEUDO', 'HALTON', 'LHS   ']\n",
      "# loop over correlation legths\n",
      "for k,l in enumerate(l_corr):\n",
      "    print ''\n",
      "    # loop over sampling methods\n",
      "    for ls,sampling in enumerate(samplings):\n",
      "\tmean_u_tip_MC = np.mean(u_tip_mean[ls,k,:])\n",
      "\tstd_u_tip_MC  = np.std(u_tip_mean[ls,k,:])\n",
      "\tCV_u_tip_MC   = std_u_tip_MC / mean_u_tip_MC\n",
      "\tprint '%s: l_coor= %.2f, mean(u_tip_MC) = %.6f, CV(u_tip_MC)= %.6f' % (sampling, l_corr[k], mean_u_tip_MC, CV_u_tip_MC)\n"
     ],
     "language": "python",
     "outputs": [
      {
       "output_type": "stream",
       "stream": "stdout",
       "text": [
        "\n",
        "PSEUDO: l_coor= 1.00, mean(u_tip_MC) = 0.020781, CV(u_tip_MC)= 0.006358\n",
        "HALTON: l_coor= 1.00, mean(u_tip_MC) = 0.020779, CV(u_tip_MC)= 0.000508\n",
        "LHS   : l_coor= 1.00, mean(u_tip_MC) = 0.020778, CV(u_tip_MC)= 0.000369\n",
        "\n",
        "PSEUDO: l_coor= 0.50, mean(u_tip_MC) = 0.020785, CV(u_tip_MC)= 0.006188\n",
        "HALTON: l_coor= 0.50, mean(u_tip_MC) = 0.020780, CV(u_tip_MC)= 0.000426\n",
        "LHS   : l_coor= 0.50, mean(u_tip_MC) = 0.020781, CV(u_tip_MC)= 0.000354\n"
       ]
      }
     ],
     "prompt_number": 21
    },
    {
     "cell_type": "heading",
     "level": 4,
     "source": [
      "Mean and coefficient of variation of the Monte Carlo standard deviation of tip displacement estimate"
     ]
    },
    {
     "cell_type": "code",
     "collapsed": false,
     "input": [
      "samplings =['PSEUDO', 'HALTON', 'LHS   ']\n",
      "# loop over correlation legths\n",
      "for k,l in enumerate(l_corr):\n",
      "    print ''\n",
      "    # loop over sampling methods\n",
      "    for ls,sampling in enumerate(samplings):\n",
      "\tmean_u_tip_STD = np.mean(u_tip_std[ls,k,:])\n",
      "\tstd_u_tip_STD  = np.std(u_tip_std[ls,k,:])\n",
      "\tCV_u_tip_STD   = std_u_tip_STD / mean_u_tip_STD\n",
      "\tprint '%s: l_coor= %.2f, mean(u_tip_STD) = %.6f, CV(u_tip_STD)= %.6f' % (sampling, l_corr[k], mean_u_tip_STD, CV_u_tip_STD)\n"
     ],
     "language": "python",
     "outputs": [
      {
       "output_type": "stream",
       "stream": "stdout",
       "text": [
        "\n",
        "PSEUDO: l_coor= 1.00, mean(u_tip_STD) = 0.003304, CV(u_tip_STD)= 0.032693\n",
        "HALTON: l_coor= 1.00, mean(u_tip_STD) = 0.003291, CV(u_tip_STD)= 0.005374\n",
        "LHS   : l_coor= 1.00, mean(u_tip_STD) = 0.003286, CV(u_tip_STD)= 0.016803\n",
        "\n",
        "PSEUDO: l_coor= 0.50, mean(u_tip_STD) = 0.002737, CV(u_tip_STD)= 0.038556\n",
        "HALTON: l_coor= 0.50, mean(u_tip_STD) = 0.002763, CV(u_tip_STD)= 0.005370\n",
        "LHS   : l_coor= 0.50, mean(u_tip_STD) = 0.002774, CV(u_tip_STD)= 0.019411\n"
       ]
      }
     ],
     "prompt_number": 23
    }
   ]
  }
 ]
}